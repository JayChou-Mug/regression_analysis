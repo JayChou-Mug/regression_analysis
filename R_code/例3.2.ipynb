{
 "cells": [
  {
   "cell_type": "code",
   "execution_count": 8,
   "id": "81df0d78-5072-4db0-89e0-68e64c9173b0",
   "metadata": {
    "tags": []
   },
   "outputs": [
    {
     "data": {
      "text/plain": [
       "\n",
       "Call:\n",
       "lm(formula = y ~ x1 + x2, data = data3.2)\n",
       "\n",
       "Residuals:\n",
       "   Min     1Q Median     3Q    Max \n",
       "-831.7 -147.9   95.0  136.8  958.1 \n",
       "\n",
       "Coefficients:\n",
       "             Estimate Std. Error t value Pr(>|t|)    \n",
       "(Intercept) -327.0395   218.0011  -1.500 0.159413    \n",
       "x1             2.0360     0.4380   4.649 0.000562 ***\n",
       "x2             0.4684     0.1233   3.799 0.002532 ** \n",
       "---\n",
       "Signif. codes:  0 ‘***’ 0.001 ‘**’ 0.01 ‘*’ 0.05 ‘.’ 0.1 ‘ ’ 1\n",
       "\n",
       "Residual standard error: 475.8 on 12 degrees of freedom\n",
       "Multiple R-squared:  0.8419,\tAdjusted R-squared:  0.8156 \n",
       "F-statistic: 31.96 on 2 and 12 DF,  p-value: 1.561e-05\n"
      ]
     },
     "metadata": {},
     "output_type": "display_data"
    }
   ],
   "source": [
    "data3.2<-read.csv(\"data3.2.csv\",head=TRUE)\n",
    "lm3.2<-lm(y~x1+x2,data=data3.2)\n",
    "summary(lm3.2)"
   ]
  },
  {
   "cell_type": "code",
   "execution_count": 4,
   "id": "ef05f2c2-5e7a-476a-94c6-cde3da28d486",
   "metadata": {
    "tags": []
   },
   "outputs": [
    {
     "name": "stdout",
     "output_type": "stream",
     "text": [
      "          x1        x2         y\n",
      "x1 1.0000000 0.4394288 0.8073117\n",
      "x2 0.4394288 1.0000000 0.7464775\n",
      "y  0.8073117 0.7464775 1.0000000\n"
     ]
    }
   ],
   "source": [
    "r<-cor(data3.2)\n",
    "print(r)      #计算相关系数阵"
   ]
  },
  {
   "cell_type": "code",
   "execution_count": 5,
   "id": "6665abbe-d83a-40cd-adff-46a847c7e95d",
   "metadata": {
    "tags": []
   },
   "outputs": [
    {
     "name": "stdout",
     "output_type": "stream",
     "text": [
      "\n",
      "下载的二进制程序包在\n",
      "\t/var/folders/2m/t9zjsz397sg81f6pdnm1sd3w0000gn/T//RtmpD0XsYX/downloaded_packages里\n"
     ]
    }
   ],
   "source": [
    "install.packages(\"corpcor\") #安装corpcor包\n",
    "library(corpcor) #加载corpcor包"
   ]
  },
  {
   "cell_type": "code",
   "execution_count": 7,
   "id": "e042a3bc-ec97-431b-ac3e-2886aeb866fb",
   "metadata": {
    "tags": []
   },
   "outputs": [
    {
     "name": "stdout",
     "output_type": "stream",
     "text": [
      "          [,1]       [,2]      [,3]\n",
      "[1,]  1.000000 -0.4156390 0.8018560\n",
      "[2,] -0.415639  1.0000000 0.7389631\n",
      "[3,]  0.801856  0.7389631 1.0000000\n"
     ]
    }
   ],
   "source": [
    "pcor3.2<-cor2pcor(r)   #由相关系数阵计算偏相关系数阵\n",
    "print(pcor3.2)"
   ]
  },
  {
   "cell_type": "code",
   "execution_count": null,
   "id": "bc460f4b-da59-454e-a0e9-0ed5efeeb2bd",
   "metadata": {},
   "outputs": [],
   "source": []
  }
 ],
 "metadata": {
  "kernelspec": {
   "display_name": "R",
   "language": "R",
   "name": "ir"
  },
  "language_info": {
   "codemirror_mode": "r",
   "file_extension": ".r",
   "mimetype": "text/x-r-source",
   "name": "R",
   "pygments_lexer": "r",
   "version": "4.2.3"
  }
 },
 "nbformat": 4,
 "nbformat_minor": 5
}
