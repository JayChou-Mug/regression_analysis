{
 "cells": [
  {
   "cell_type": "markdown",
   "id": "9bcce0ab-f641-44cf-846e-c51a17d260c4",
   "metadata": {},
   "source": [
    "<img src='image/17.png' style=\"zoom:40%\">"
   ]
  },
  {
   "cell_type": "markdown",
   "id": "e1bc958f-7720-4ab9-bba4-220fc0a9621b",
   "metadata": {},
   "source": [
    "<img src='image/18.png' style=\"zoom:40%\">"
   ]
  },
  {
   "cell_type": "code",
   "execution_count": 1,
   "id": "0256bacb-6364-450d-8028-2d1a007b7fc2",
   "metadata": {
    "tags": []
   },
   "outputs": [],
   "source": [
    "data2.2<-read.csv(\"data2.2.csv\",head = TRUE)"
   ]
  },
  {
   "cell_type": "markdown",
   "id": "f8379418-341c-4d89-b000-fb7b2b1a0568",
   "metadata": {},
   "source": [
    "<img src='image/2.png' style=\"zoom:40%\">"
   ]
  },
  {
   "cell_type": "markdown",
   "id": "60691a61-14e8-4633-9921-8c1349f5901f",
   "metadata": {},
   "source": [
    "<img src='image/19.png' style=\"zoom:40%\">"
   ]
  },
  {
   "cell_type": "code",
   "execution_count": 2,
   "id": "dbd4cabb-1f35-4093-a8c6-5d5b96253847",
   "metadata": {
    "tags": []
   },
   "outputs": [
    {
     "data": {
      "text/html": [
       "<table class=\"dataframe\">\n",
       "<caption>A data.frame: 23 × 3</caption>\n",
       "<thead>\n",
       "\t<tr><th scope=col>t</th><th scope=col>y</th><th scope=col>x</th></tr>\n",
       "\t<tr><th scope=col>&lt;int&gt;</th><th scope=col>&lt;dbl&gt;</th><th scope=col>&lt;dbl&gt;</th></tr>\n",
       "</thead>\n",
       "<tbody>\n",
       "\t<tr><td>1990</td><td> 1278.89</td><td> 1510.16</td></tr>\n",
       "\t<tr><td>1991</td><td> 1453.80</td><td> 1700.60</td></tr>\n",
       "\t<tr><td>1992</td><td> 1671.70</td><td> 2026.60</td></tr>\n",
       "\t<tr><td>1993</td><td> 2110.80</td><td> 2577.40</td></tr>\n",
       "\t<tr><td>1994</td><td> 2851.30</td><td> 3496.20</td></tr>\n",
       "\t<tr><td>1995</td><td> 3537.57</td><td> 4282.95</td></tr>\n",
       "\t<tr><td>1996</td><td> 3919.50</td><td> 4838.90</td></tr>\n",
       "\t<tr><td>1997</td><td> 4185.60</td><td> 5160.30</td></tr>\n",
       "\t<tr><td>1998</td><td> 4331.60</td><td> 5425.10</td></tr>\n",
       "\t<tr><td>1999</td><td> 4615.90</td><td> 5854.00</td></tr>\n",
       "\t<tr><td>2000</td><td> 4998.00</td><td> 6279.98</td></tr>\n",
       "\t<tr><td>2001</td><td> 5309.01</td><td> 6859.60</td></tr>\n",
       "\t<tr><td>2002</td><td> 6029.92</td><td> 7702.80</td></tr>\n",
       "\t<tr><td>2003</td><td> 6510.94</td><td> 8472.20</td></tr>\n",
       "\t<tr><td>2004</td><td> 7182.10</td><td> 9421.60</td></tr>\n",
       "\t<tr><td>2005</td><td> 7942.88</td><td>10493.00</td></tr>\n",
       "\t<tr><td>2006</td><td> 8696.55</td><td>11759.50</td></tr>\n",
       "\t<tr><td>2007</td><td> 9997.47</td><td>13785.80</td></tr>\n",
       "\t<tr><td>2008</td><td>11242.85</td><td>15780.76</td></tr>\n",
       "\t<tr><td>2009</td><td>12264.55</td><td>17174.65</td></tr>\n",
       "\t<tr><td>2010</td><td>13471.45</td><td>19109.40</td></tr>\n",
       "\t<tr><td>2011</td><td>15160.89</td><td>21809.80</td></tr>\n",
       "\t<tr><td>2012</td><td>16674.32</td><td>24564.70</td></tr>\n",
       "</tbody>\n",
       "</table>\n"
      ],
      "text/latex": [
       "A data.frame: 23 × 3\n",
       "\\begin{tabular}{lll}\n",
       " t & y & x\\\\\n",
       " <int> & <dbl> & <dbl>\\\\\n",
       "\\hline\n",
       "\t 1990 &  1278.89 &  1510.16\\\\\n",
       "\t 1991 &  1453.80 &  1700.60\\\\\n",
       "\t 1992 &  1671.70 &  2026.60\\\\\n",
       "\t 1993 &  2110.80 &  2577.40\\\\\n",
       "\t 1994 &  2851.30 &  3496.20\\\\\n",
       "\t 1995 &  3537.57 &  4282.95\\\\\n",
       "\t 1996 &  3919.50 &  4838.90\\\\\n",
       "\t 1997 &  4185.60 &  5160.30\\\\\n",
       "\t 1998 &  4331.60 &  5425.10\\\\\n",
       "\t 1999 &  4615.90 &  5854.00\\\\\n",
       "\t 2000 &  4998.00 &  6279.98\\\\\n",
       "\t 2001 &  5309.01 &  6859.60\\\\\n",
       "\t 2002 &  6029.92 &  7702.80\\\\\n",
       "\t 2003 &  6510.94 &  8472.20\\\\\n",
       "\t 2004 &  7182.10 &  9421.60\\\\\n",
       "\t 2005 &  7942.88 & 10493.00\\\\\n",
       "\t 2006 &  8696.55 & 11759.50\\\\\n",
       "\t 2007 &  9997.47 & 13785.80\\\\\n",
       "\t 2008 & 11242.85 & 15780.76\\\\\n",
       "\t 2009 & 12264.55 & 17174.65\\\\\n",
       "\t 2010 & 13471.45 & 19109.40\\\\\n",
       "\t 2011 & 15160.89 & 21809.80\\\\\n",
       "\t 2012 & 16674.32 & 24564.70\\\\\n",
       "\\end{tabular}\n"
      ],
      "text/markdown": [
       "\n",
       "A data.frame: 23 × 3\n",
       "\n",
       "| t &lt;int&gt; | y &lt;dbl&gt; | x &lt;dbl&gt; |\n",
       "|---|---|---|\n",
       "| 1990 |  1278.89 |  1510.16 |\n",
       "| 1991 |  1453.80 |  1700.60 |\n",
       "| 1992 |  1671.70 |  2026.60 |\n",
       "| 1993 |  2110.80 |  2577.40 |\n",
       "| 1994 |  2851.30 |  3496.20 |\n",
       "| 1995 |  3537.57 |  4282.95 |\n",
       "| 1996 |  3919.50 |  4838.90 |\n",
       "| 1997 |  4185.60 |  5160.30 |\n",
       "| 1998 |  4331.60 |  5425.10 |\n",
       "| 1999 |  4615.90 |  5854.00 |\n",
       "| 2000 |  4998.00 |  6279.98 |\n",
       "| 2001 |  5309.01 |  6859.60 |\n",
       "| 2002 |  6029.92 |  7702.80 |\n",
       "| 2003 |  6510.94 |  8472.20 |\n",
       "| 2004 |  7182.10 |  9421.60 |\n",
       "| 2005 |  7942.88 | 10493.00 |\n",
       "| 2006 |  8696.55 | 11759.50 |\n",
       "| 2007 |  9997.47 | 13785.80 |\n",
       "| 2008 | 11242.85 | 15780.76 |\n",
       "| 2009 | 12264.55 | 17174.65 |\n",
       "| 2010 | 13471.45 | 19109.40 |\n",
       "| 2011 | 15160.89 | 21809.80 |\n",
       "| 2012 | 16674.32 | 24564.70 |\n",
       "\n"
      ],
      "text/plain": [
       "   t    y        x       \n",
       "1  1990  1278.89  1510.16\n",
       "2  1991  1453.80  1700.60\n",
       "3  1992  1671.70  2026.60\n",
       "4  1993  2110.80  2577.40\n",
       "5  1994  2851.30  3496.20\n",
       "6  1995  3537.57  4282.95\n",
       "7  1996  3919.50  4838.90\n",
       "8  1997  4185.60  5160.30\n",
       "9  1998  4331.60  5425.10\n",
       "10 1999  4615.90  5854.00\n",
       "11 2000  4998.00  6279.98\n",
       "12 2001  5309.01  6859.60\n",
       "13 2002  6029.92  7702.80\n",
       "14 2003  6510.94  8472.20\n",
       "15 2004  7182.10  9421.60\n",
       "16 2005  7942.88 10493.00\n",
       "17 2006  8696.55 11759.50\n",
       "18 2007  9997.47 13785.80\n",
       "19 2008 11242.85 15780.76\n",
       "20 2009 12264.55 17174.65\n",
       "21 2010 13471.45 19109.40\n",
       "22 2011 15160.89 21809.80\n",
       "23 2012 16674.32 24564.70"
      ]
     },
     "metadata": {},
     "output_type": "display_data"
    }
   ],
   "source": [
    "data2.2"
   ]
  },
  {
   "cell_type": "code",
   "execution_count": 3,
   "id": "397b8bfa-e220-434c-a61c-84e26414c88f",
   "metadata": {},
   "outputs": [],
   "source": [
    "attach(data2.2)   #将数据添加到R的搜索路径"
   ]
  },
  {
   "cell_type": "markdown",
   "id": "cea71fc3-21ad-42a0-bc62-572c62dcf53a",
   "metadata": {},
   "source": [
    "<img src='image/20.png' style=\"zoom:40%\">"
   ]
  },
  {
   "cell_type": "markdown",
   "id": "8501cd2f-50c0-46c8-8ca6-6d7fd0f62b7f",
   "metadata": {},
   "source": [
    "<img src='image/21.png' style=\"zoom:40%\">"
   ]
  },
  {
   "cell_type": "code",
   "execution_count": 4,
   "id": "066ad6a6-0fc4-4b4d-a39c-e4e40b3be7f8",
   "metadata": {},
   "outputs": [
    {
     "data": {
      "text/html": [
       "<style>\n",
       ".list-inline {list-style: none; margin:0; padding: 0}\n",
       ".list-inline>li {display: inline-block}\n",
       ".list-inline>li:not(:last-child)::after {content: \"\\00b7\"; padding: 0 .5ex}\n",
       "</style>\n",
       "<ol class=list-inline><li>9134.17391304348</li><li>6654.94249016524</li><li>6758.15608695652</li><li>4484.71397302471</li></ol>\n"
      ],
      "text/latex": [
       "\\begin{enumerate*}\n",
       "\\item 9134.17391304348\n",
       "\\item 6654.94249016524\n",
       "\\item 6758.15608695652\n",
       "\\item 4484.71397302471\n",
       "\\end{enumerate*}\n"
      ],
      "text/markdown": [
       "1. 9134.17391304348\n",
       "2. 6654.94249016524\n",
       "3. 6758.15608695652\n",
       "4. 4484.71397302471\n",
       "\n",
       "\n"
      ],
      "text/plain": [
       "[1] 9134.174 6654.942 6758.156 4484.714"
      ]
     },
     "metadata": {},
     "output_type": "display_data"
    }
   ],
   "source": [
    "data_outline<-c(mean(x),sd(x),mean(y),sd(y))   #计算x和y的均值和方差\n",
    "data_outline #输出结果"
   ]
  },
  {
   "cell_type": "code",
   "execution_count": 4,
   "id": "f12003e8-14ba-44c4-8ce5-47bf897752a0",
   "metadata": {
    "tags": []
   },
   "outputs": [
    {
     "data": {
      "text/plain": [
       "\n",
       "\tPearson's product-moment correlation\n",
       "\n",
       "data:  x and y\n",
       "t = 99.554, df = 21, p-value < 2.2e-16\n",
       "alternative hypothesis: true correlation is not equal to 0\n",
       "95 percent confidence interval:\n",
       " 0.9974606 0.9995596\n",
       "sample estimates:\n",
       "      cor \n",
       "0.9989422 \n"
      ]
     },
     "metadata": {},
     "output_type": "display_data"
    }
   ],
   "source": [
    "cor.test(x,y)   #x与y相关系数的显著性检验"
   ]
  },
  {
   "cell_type": "markdown",
   "id": "da66c525-b0e4-44c3-9050-baacfd5f46c3",
   "metadata": {},
   "source": [
    "皮尔逊相关系数（Pearson's product-moment correlation）为0.9989422，这表明变量x和y之间存在强烈的正线性关系\n",
    "\n",
    "相关性检验的结果显示，t值为99.554，自由度为21，p值小于2.2e-16，因此可以拒绝原假设（真实的相关系数等于0），接受备择假设（真实的相关系数不等于0）。这说明在所给的数据样本中，变量x和y之间的相关性是显著的\n",
    "\n",
    "置信区间为0.9974606到0.9995596，这意味着在95%的置信水平下，可以合理地认为真实的相关系数会在这个区间内"
   ]
  },
  {
   "cell_type": "code",
   "execution_count": 5,
   "id": "a56babde-2f10-4634-a44d-4d0104a1eab7",
   "metadata": {
    "tags": []
   },
   "outputs": [],
   "source": [
    "lm2.2<-lm(y~x,data = data2.2)   #建立回归方程及其显著性检验"
   ]
  },
  {
   "cell_type": "code",
   "execution_count": 14,
   "id": "f900ecea-0efa-4d34-b5e4-6a7a0ecabfbf",
   "metadata": {
    "tags": []
   },
   "outputs": [
    {
     "name": "stdout",
     "output_type": "stream",
     "text": [
      "Analysis of Variance Table\n",
      "\n",
      "Response: y\n",
      "          Df    Sum Sq   Mean Sq F value    Pr(>F)    \n",
      "x          1 441542935 441542935  9910.9 < 2.2e-16 ***\n",
      "Residuals 21    935573     44551                      \n",
      "---\n",
      "Signif. codes:  0 ‘***’ 0.001 ‘**’ 0.01 ‘*’ 0.05 ‘.’ 0.1 ‘ ’ 1\n"
     ]
    }
   ],
   "source": [
    "print(anova(lm2.2))       #输出线性回归的方差回归表"
   ]
  },
  {
   "cell_type": "markdown",
   "id": "94da6e5e-0709-4402-bdb7-9b603282215b",
   "metadata": {},
   "source": [
    "自变量（x）的自由度为1，平方和（Sum Sq）为441542934.6，均方差（Mean Sq）为441542934.59\n",
    "\n",
    "残差的自由度为21，平方和（Sum Sq）为935572.6，均方差（Mean Sq）为44551.08\n",
    "\n",
    "F值为9910.937，用于衡量自变量对因变量的解释能力\n",
    "\n",
    "Pr(>F)值为1.414255e-29，表示拒绝原假设的p值。在这种情况下，p值非常小，意味着自变量x对因变量有显著影响"
   ]
  },
  {
   "cell_type": "code",
   "execution_count": 7,
   "id": "f70cc44b-6ede-4986-a9b5-87d3f2c057f3",
   "metadata": {
    "tags": []
   },
   "outputs": [
    {
     "data": {
      "text/plain": [
       "\n",
       "Call:\n",
       "lm(formula = y ~ x, data = data2.2)\n",
       "\n",
       "Residuals:\n",
       "    Min      1Q  Median      3Q     Max \n",
       "-471.35 -120.86   65.89  134.58  269.99 \n",
       "\n",
       "Coefficients:\n",
       "             Estimate Std. Error t value Pr(>|t|)    \n",
       "(Intercept) 6.092e+02  7.584e+01   8.033 7.71e-08 ***\n",
       "x           6.732e-01  6.762e-03  99.554  < 2e-16 ***\n",
       "---\n",
       "Signif. codes:  0 ‘***’ 0.001 ‘**’ 0.01 ‘*’ 0.05 ‘.’ 0.1 ‘ ’ 1\n",
       "\n",
       "Residual standard error: 211.1 on 21 degrees of freedom\n",
       "Multiple R-squared:  0.9979,\tAdjusted R-squared:  0.9978 \n",
       "F-statistic:  9911 on 1 and 21 DF,  p-value: < 2.2e-16\n"
      ]
     },
     "metadata": {},
     "output_type": "display_data"
    }
   ],
   "source": [
    "summary(lm2.2)      #输出回归方程及显著性检验结果"
   ]
  },
  {
   "cell_type": "code",
   "execution_count": 8,
   "id": "4ae29c80-5243-4fec-b00c-6f12171e379d",
   "metadata": {
    "tags": []
   },
   "outputs": [
    {
     "data": {
      "text/html": [
       "<table class=\"dataframe\">\n",
       "<caption>A matrix: 2 × 2 of type dbl</caption>\n",
       "<thead>\n",
       "\t<tr><th></th><th scope=col>2.5 %</th><th scope=col>97.5 %</th></tr>\n",
       "</thead>\n",
       "<tbody>\n",
       "\t<tr><th scope=row>(Intercept)</th><td>451.4973964</td><td>766.9392067</td></tr>\n",
       "\t<tr><th scope=row>x</th><td>  0.6591171</td><td>  0.6872417</td></tr>\n",
       "</tbody>\n",
       "</table>\n"
      ],
      "text/latex": [
       "A matrix: 2 × 2 of type dbl\n",
       "\\begin{tabular}{r|ll}\n",
       "  & 2.5 \\% & 97.5 \\%\\\\\n",
       "\\hline\n",
       "\t(Intercept) & 451.4973964 & 766.9392067\\\\\n",
       "\tx &   0.6591171 &   0.6872417\\\\\n",
       "\\end{tabular}\n"
      ],
      "text/markdown": [
       "\n",
       "A matrix: 2 × 2 of type dbl\n",
       "\n",
       "| <!--/--> | 2.5 % | 97.5 % |\n",
       "|---|---|---|\n",
       "| (Intercept) | 451.4973964 | 766.9392067 |\n",
       "| x |   0.6591171 |   0.6872417 |\n",
       "\n"
      ],
      "text/plain": [
       "            2.5 %       97.5 %     \n",
       "(Intercept) 451.4973964 766.9392067\n",
       "x             0.6591171   0.6872417"
      ]
     },
     "metadata": {},
     "output_type": "display_data"
    }
   ],
   "source": [
    "confint(lm2.2)      #计算回归系数95%的置信区间"
   ]
  },
  {
   "cell_type": "code",
   "execution_count": 9,
   "id": "2ab3a7ac-750c-4caf-b2d1-fdef55fafb81",
   "metadata": {
    "tags": []
   },
   "outputs": [],
   "source": [
    "SRE<-rstandard(lm2.2)      #计算学生化残差"
   ]
  },
  {
   "cell_type": "code",
   "execution_count": 10,
   "id": "48e05c14-2e1e-422b-b226-fa4c3a7c3ca4",
   "metadata": {
    "tags": []
   },
   "outputs": [
    {
     "data": {
      "image/png": "[encoded data removed]",
      "text/plain": [
       "plot without title"
      ]
     },
     "metadata": {
      "image/png": {
       "height": 420,
       "width": 420
      }
     },
     "output_type": "display_data"
    }
   ],
   "source": [
    "plot(x,SRE,xlab = \"income\",ylab = \"e\")  #绘制残差散点图\n",
    "abline(h = 0, lty = 2) # 添加一条水平参考线"
   ]
  },
  {
   "cell_type": "code",
   "execution_count": 11,
   "id": "1893ddb2-b119-402e-80f4-0f6a4c32962c",
   "metadata": {
    "tags": []
   },
   "outputs": [],
   "source": [
    "detach(data2.2)      #与attach（）相对应，将数据框从搜索引擎路径中移除"
   ]
  },
  {
   "cell_type": "code",
   "execution_count": null,
   "id": "9def6957-93a8-4cc3-a215-f9af56b71b28",
   "metadata": {},
   "outputs": [],
   "source": []
  }
 ],
 "metadata": {
  "kernelspec": {
   "display_name": "R",
   "language": "R",
   "name": "ir"
  },
  "language_info": {
   "codemirror_mode": "r",
   "file_extension": ".r",
   "mimetype": "text/x-r-source",
   "name": "R",
   "pygments_lexer": "r",
   "version": "4.2.3"
  }
 },
 "nbformat": 4,
 "nbformat_minor": 5
}
