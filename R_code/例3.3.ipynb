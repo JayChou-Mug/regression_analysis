{
 "cells": [
  {
   "cell_type": "code",
   "execution_count": 3,
   "id": "a80744e6-1579-4390-be5e-56caf592f1c3",
   "metadata": {
    "tags": []
   },
   "outputs": [
    {
     "name": "stdout",
     "output_type": "stream",
     "text": [
      "           y        x1        x2        x3        x4        x5\n",
      "y  1.0000000 0.9894676 0.9854902 0.2268630 0.9870918 0.9242208\n",
      "x1 0.9894676 1.0000000 0.9989578 0.2578246 0.9836088 0.9301665\n",
      "x2 0.9854902 0.9989578 1.0000000 0.2889899 0.9778043 0.9422928\n",
      "x3 0.2268630 0.2578246 0.2889899 1.0000000 0.2129273 0.5043308\n",
      "x4 0.9870918 0.9836088 0.9778043 0.2129273 1.0000000 0.8817976\n",
      "x5 0.9242208 0.9301665 0.9422928 0.5043308 0.8817976 1.0000000\n"
     ]
    }
   ],
   "source": [
    "data3.3<-read.csv(\"data3.3.csv\",head=TRUE)\n",
    "cor3.3<-cor(data3.3[,-1])   #出去第一列数据计算矩阵\n",
    "print(cor3.3)"
   ]
  },
  {
   "cell_type": "code",
   "execution_count": 4,
   "id": "6badd57c-1f06-4cc9-a7b9-8188ae95df38",
   "metadata": {
    "tags": []
   },
   "outputs": [
    {
     "data": {
      "text/plain": [
       "\n",
       "Call:\n",
       "lm(formula = y ~ x1 + x2 + x3 + x4 + x5, data = data3.3)\n",
       "\n",
       "Residuals:\n",
       "   Min     1Q Median     3Q    Max \n",
       "-50.23 -33.81 -10.18  20.40  79.80 \n",
       "\n",
       "Coefficients:\n",
       "              Estimate Std. Error t value Pr(>|t|)    \n",
       "(Intercept) 450.909240 178.077719   2.532 0.029764 *  \n",
       "x1            0.353898   0.085230   4.152 0.001973 ** \n",
       "x2           -0.561476   0.125384  -4.478 0.001183 ** \n",
       "x3           -0.007254   0.002067  -3.510 0.005633 ** \n",
       "x4           21.577860   4.030051   5.354 0.000322 ***\n",
       "x5            0.435188   0.051560   8.440 7.34e-06 ***\n",
       "---\n",
       "Signif. codes:  0 ‘***’ 0.001 ‘**’ 0.01 ‘*’ 0.05 ‘.’ 0.1 ‘ ’ 1\n",
       "\n",
       "Residual standard error: 49.49 on 10 degrees of freedom\n",
       "Multiple R-squared:  0.9982,\tAdjusted R-squared:  0.9973 \n",
       "F-statistic:  1128 on 5 and 10 DF,  p-value: 2.03e-13\n"
      ]
     },
     "metadata": {},
     "output_type": "display_data"
    }
   ],
   "source": [
    "lm3.3<-lm(y~x1+x2+x3+x4+x5,data = data3.3)\n",
    "summary(lm3.3)"
   ]
  },
  {
   "cell_type": "code",
   "execution_count": null,
   "id": "da4d9d76-f9cd-4791-882c-add893e538f3",
   "metadata": {},
   "outputs": [],
   "source": []
  }
 ],
 "metadata": {
  "kernelspec": {
   "display_name": "R",
   "language": "R",
   "name": "ir"
  },
  "language_info": {
   "codemirror_mode": "r",
   "file_extension": ".r",
   "mimetype": "text/x-r-source",
   "name": "R",
   "pygments_lexer": "r",
   "version": "4.2.3"
  }
 },
 "nbformat": 4,
 "nbformat_minor": 5
}
