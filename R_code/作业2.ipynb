{
 "cells": [
  {
   "cell_type": "markdown",
   "id": "caadc4cc-3b46-4d15-a7c7-17395fdfaa09",
   "metadata": {},
   "source": [
    "研究货运总量y（万吨）与工业总产值x1（亿元），农业总产值x2（亿元），居民非商品支出x3（亿元）的关系，数据见表3-9.\n",
    "\n",
    "<img src='image/24.png' style='zoom:40%'>"
   ]
  },
  {
   "cell_type": "markdown",
   "id": "5ecd25ae-246f-4867-9ca8-f1389b013a82",
   "metadata": {},
   "source": [
    "# 1. 计算出y,x1,x2,x3的相关系数矩阵"
   ]
  },
  {
   "cell_type": "code",
   "execution_count": 3,
   "id": "7fadb150-74d5-41b3-9559-93b64caa62ad",
   "metadata": {
    "tags": []
   },
   "outputs": [],
   "source": [
    "x1<-c(70,75,65,74,72,68,78,66,70,65)\n",
    "x2<-c(35,40,40,42,38,45,42,36,44,42)\n",
    "x3<-c(1.0,2.4,2.0,3.0,1.2,1.5,4.0,2.0,3.2,3.0)\n",
    "y<-c(160,260,210,265,240,220,275,160,275,250)"
   ]
  },
  {
   "cell_type": "code",
   "execution_count": 7,
   "id": "6d467a63-4478-4c65-b8ce-f7ad77e740f9",
   "metadata": {
    "tags": []
   },
   "outputs": [
    {
     "name": "stdout",
     "output_type": "stream",
     "text": [
      "           y        x1        x2        x3\n",
      "y  1.0000000 0.5556527 0.7306199 0.7235354\n",
      "x1 0.5556527 1.0000000 0.1129513 0.3983870\n",
      "x2 0.7306199 0.1129513 1.0000000 0.5474739\n",
      "x3 0.7235354 0.3983870 0.5474739 1.0000000\n"
     ]
    }
   ],
   "source": [
    "data3.11 <- data.frame(y, x1, x2, x3)  # 创建数据框\n",
    "r <- cor(data3.11)  # 计算相关系数矩阵\n",
    "print(r)"
   ]
  },
  {
   "cell_type": "markdown",
   "id": "d0fc80fb-a0c8-4bcf-ad39-4531d69d277b",
   "metadata": {},
   "source": [
    "# 求y关于x1,x2,x3的三元线性回归方程"
   ]
  },
  {
   "cell_type": "code",
   "execution_count": 8,
   "id": "9ece504e-cbc5-45f3-b659-bd601fb4c422",
   "metadata": {
    "tags": []
   },
   "outputs": [],
   "source": [
    "lm3.11<-lm(y~x1+x2+x3)"
   ]
  },
  {
   "cell_type": "code",
   "execution_count": 9,
   "id": "f498e3aa-e566-41cb-ae7d-d2a4e65c802c",
   "metadata": {
    "tags": []
   },
   "outputs": [
    {
     "data": {
      "text/plain": [
       "\n",
       "Call:\n",
       "lm(formula = y ~ x1 + x2 + x3)\n",
       "\n",
       "Coefficients:\n",
       "(Intercept)           x1           x2           x3  \n",
       "   -348.280        3.754        7.101       12.447  \n"
      ]
     },
     "metadata": {},
     "output_type": "display_data"
    }
   ],
   "source": [
    "lm3.11"
   ]
  },
  {
   "cell_type": "markdown",
   "id": "96c97a11-b1d6-4c49-a7d9-2d7f769fc7c9",
   "metadata": {},
   "source": [
    "# 对所得方程做拟合优度检验"
   ]
  },
  {
   "cell_type": "code",
   "execution_count": 10,
   "id": "cb5fbaea-28da-4546-9a25-5f51db90f43d",
   "metadata": {
    "tags": []
   },
   "outputs": [
    {
     "data": {
      "text/plain": [
       "\n",
       "Call:\n",
       "lm(formula = y ~ x1 + x2 + x3)\n",
       "\n",
       "Residuals:\n",
       "    Min      1Q  Median      3Q     Max \n",
       "-25.198 -17.035   2.627  11.677  33.225 \n",
       "\n",
       "Coefficients:\n",
       "            Estimate Std. Error t value Pr(>|t|)  \n",
       "(Intercept) -348.280    176.459  -1.974   0.0959 .\n",
       "x1             3.754      1.933   1.942   0.1002  \n",
       "x2             7.101      2.880   2.465   0.0488 *\n",
       "x3            12.447     10.569   1.178   0.2835  \n",
       "---\n",
       "Signif. codes:  0 ‘***’ 0.001 ‘**’ 0.01 ‘*’ 0.05 ‘.’ 0.1 ‘ ’ 1\n",
       "\n",
       "Residual standard error: 23.44 on 6 degrees of freedom\n",
       "Multiple R-squared:  0.8055,\tAdjusted R-squared:  0.7083 \n",
       "F-statistic: 8.283 on 3 and 6 DF,  p-value: 0.01487\n"
      ]
     },
     "metadata": {},
     "output_type": "display_data"
    }
   ],
   "source": [
    "summary(lm3.11)"
   ]
  },
  {
   "cell_type": "markdown",
   "id": "a2257446-0fcd-4e40-b4bd-c8b222b8f322",
   "metadata": {},
   "source": [
    "拟合优度检验可以通过查看$R^2$值来评估。在上一个输出结果中，$R^2$为0.8055，这表示模型可以解释目标变量y的80.55%的变异性"
   ]
  },
  {
   "cell_type": "markdown",
   "id": "4e06f8eb-57f3-4f37-bf34-e2fb5672d5f8",
   "metadata": {},
   "source": [
    "# 对方程做显著性检验"
   ]
  },
  {
   "cell_type": "markdown",
   "id": "019bba26-5e79-4348-bba9-978a5c2dafe4",
   "metadata": {},
   "source": [
    "通过查看模型的统计摘要信息中的F统计和p值来进行显著性检验。输出结果中，F统计为8.283，p值为0.01487<0.05，可以拒绝原假设，认为至少一个解释变量与目标变量之间存在显著线性关系"
   ]
  },
  {
   "cell_type": "markdown",
   "id": "24e86212-b5ce-415e-b969-87a9fad066e2",
   "metadata": {},
   "source": [
    "# 对每一个回归系数做显著性检验"
   ]
  },
  {
   "cell_type": "markdown",
   "id": "c2f307d9-a074-46b0-ab6e-c23cbc286aa0",
   "metadata": {},
   "source": [
    "`Coefficients`列出了每个回归系数的估计值、标准误差、t值和对应的p值。根据p值进行显著性检验。在此例中，x2的p值小于0.05，因此可以认为x2与y之间存在显著线性关系。然而，其他系数的p值均大于0.05，因此不能认为它们与y之间存在显著线性关系"
   ]
  },
  {
   "cell_type": "markdown",
   "id": "d599fcaa-7c17-4349-9e85-45330877f581",
   "metadata": {},
   "source": [
    "# 如果有的回归系数没通过显著性检验，将其剔除，重新建立回归方程，再做回归方程的显著性检验和回归系数显著性检验"
   ]
  },
  {
   "cell_type": "code",
   "execution_count": 11,
   "id": "64c8ae7f-1a25-4558-93c8-f52a7c377ba1",
   "metadata": {
    "tags": []
   },
   "outputs": [],
   "source": [
    "lm3.11_drop3<-update(lm3.11,.~.-x3)"
   ]
  },
  {
   "cell_type": "code",
   "execution_count": 12,
   "id": "8c5a2c00-f120-4b9a-b08e-72163c1442a4",
   "metadata": {
    "tags": []
   },
   "outputs": [
    {
     "data": {
      "text/plain": [
       "\n",
       "Call:\n",
       "lm(formula = y ~ x1 + x2)\n",
       "\n",
       "Residuals:\n",
       "    Min      1Q  Median      3Q     Max \n",
       "-42.012 -10.656   4.358  11.984  28.927 \n",
       "\n",
       "Coefficients:\n",
       "            Estimate Std. Error t value Pr(>|t|)   \n",
       "(Intercept) -459.624    153.058  -3.003  0.01986 * \n",
       "x1             4.676      1.816   2.575  0.03676 * \n",
       "x2             8.971      2.468   3.634  0.00835 **\n",
       "---\n",
       "Signif. codes:  0 ‘***’ 0.001 ‘**’ 0.01 ‘*’ 0.05 ‘.’ 0.1 ‘ ’ 1\n",
       "\n",
       "Residual standard error: 24.08 on 7 degrees of freedom\n",
       "Multiple R-squared:  0.7605,\tAdjusted R-squared:  0.6921 \n",
       "F-statistic: 11.12 on 2 and 7 DF,  p-value: 0.006718\n"
      ]
     },
     "metadata": {},
     "output_type": "display_data"
    }
   ],
   "source": [
    "summary(lm3.11_drop3)"
   ]
  },
  {
   "cell_type": "markdown",
   "id": "88e53cc7-9f7f-446d-9208-287ade02b53f",
   "metadata": {},
   "source": [
    "在新的回归方程中，所有的回归系数在0.05显著性水平下都通过了显著性检验"
   ]
  },
  {
   "cell_type": "markdown",
   "id": "2b12829b-74bc-4750-87eb-c38a8b2d2c46",
   "metadata": {},
   "source": [
    "# 求出每一个回归系数的置信水平为95%的置信区间"
   ]
  },
  {
   "cell_type": "code",
   "execution_count": 13,
   "id": "7ef986d6-30bb-4ac1-9ac0-6157e2de8be4",
   "metadata": {
    "tags": []
   },
   "outputs": [
    {
     "data": {
      "text/html": [
       "<table class=\"dataframe\">\n",
       "<caption>A matrix: 3 × 2 of type dbl</caption>\n",
       "<thead>\n",
       "\t<tr><th></th><th scope=col>2.5 %</th><th scope=col>97.5 %</th></tr>\n",
       "</thead>\n",
       "<tbody>\n",
       "\t<tr><th scope=row>(Intercept)</th><td>-821.5473012</td><td>-97.700006</td></tr>\n",
       "\t<tr><th scope=row>x1</th><td>   0.3813047</td><td>  8.969956</td></tr>\n",
       "\t<tr><th scope=row>x2</th><td>   3.1339785</td><td> 14.807944</td></tr>\n",
       "</tbody>\n",
       "</table>\n"
      ],
      "text/latex": [
       "A matrix: 3 × 2 of type dbl\n",
       "\\begin{tabular}{r|ll}\n",
       "  & 2.5 \\% & 97.5 \\%\\\\\n",
       "\\hline\n",
       "\t(Intercept) & -821.5473012 & -97.700006\\\\\n",
       "\tx1 &    0.3813047 &   8.969956\\\\\n",
       "\tx2 &    3.1339785 &  14.807944\\\\\n",
       "\\end{tabular}\n"
      ],
      "text/markdown": [
       "\n",
       "A matrix: 3 × 2 of type dbl\n",
       "\n",
       "| <!--/--> | 2.5 % | 97.5 % |\n",
       "|---|---|---|\n",
       "| (Intercept) | -821.5473012 | -97.700006 |\n",
       "| x1 |    0.3813047 |   8.969956 |\n",
       "| x2 |    3.1339785 |  14.807944 |\n",
       "\n"
      ],
      "text/plain": [
       "            2.5 %        97.5 %    \n",
       "(Intercept) -821.5473012 -97.700006\n",
       "x1             0.3813047   8.969956\n",
       "x2             3.1339785  14.807944"
      ]
     },
     "metadata": {},
     "output_type": "display_data"
    }
   ],
   "source": [
    "confint(lm3.11_drop3)"
   ]
  },
  {
   "cell_type": "markdown",
   "id": "55958418-d41d-4745-91af-d61295196fde",
   "metadata": {},
   "source": [
    "# 求标准化回归方程"
   ]
  },
  {
   "cell_type": "markdown",
   "id": "545f8a3f-2118-46d6-b045-714d80b109ed",
   "metadata": {},
   "source": [
    "标准化回归方程可以通过查看标准化的回归系数来得到"
   ]
  },
  {
   "cell_type": "code",
   "execution_count": 15,
   "id": "98fd8090-791b-49c6-a821-98ce2cecd42a",
   "metadata": {
    "tags": []
   },
   "outputs": [],
   "source": [
    "lm3.11_std <- lm(scale(y) ~ scale(x1) + scale(x2))"
   ]
  },
  {
   "cell_type": "code",
   "execution_count": 16,
   "id": "978ed450-ac02-4b8d-b309-0b914221ee72",
   "metadata": {
    "tags": []
   },
   "outputs": [
    {
     "data": {
      "text/plain": [
       "\n",
       "Call:\n",
       "lm(formula = scale(y) ~ scale(x1) + scale(x2))\n",
       "\n",
       "Coefficients:\n",
       "(Intercept)    scale(x1)    scale(x2)  \n",
       " -7.552e-16    4.792e-01    6.765e-01  \n"
      ]
     },
     "metadata": {},
     "output_type": "display_data"
    }
   ],
   "source": [
    "lm3.11_std"
   ]
  },
  {
   "cell_type": "markdown",
   "id": "5d6f5f31-d1a9-41bb-8473-c4a6c9339228",
   "metadata": {},
   "source": [
    "求当$x_{01}=75，x_{02}=42，x_{03}=3.1$时的$\\hat{y_0}$，给定置信水平为95%，用R软件计算精确置信区间，手工计算近似预测区间"
   ]
  },
  {
   "cell_type": "markdown",
   "id": "9bab157d-35eb-4f7a-bfc8-1574aba15834",
   "metadata": {},
   "source": [
    ">`置信区间（confidence interval）`:对于x的一个给定值，y的平均值的区间估计\n",
    ">\n",
    ">`预测区间（prediction interval）`:对于x的一个给定值，y的一个个别值的区间估计"
   ]
  },
  {
   "cell_type": "code",
   "execution_count": 22,
   "id": "927fc025-486e-49cd-819a-508a1b092db7",
   "metadata": {
    "tags": []
   },
   "outputs": [
    {
     "data": {
      "text/html": [
       "'置信区间'"
      ],
      "text/latex": [
       "'置信区间'"
      ],
      "text/markdown": [
       "'置信区间'"
      ],
      "text/plain": [
       "[1] \"置信区间\""
      ]
     },
     "metadata": {},
     "output_type": "display_data"
    },
    {
     "data": {
      "text/html": [
       "<table class=\"dataframe\">\n",
       "<caption>A matrix: 1 × 3 of type dbl</caption>\n",
       "<thead>\n",
       "\t<tr><th></th><th scope=col>fit</th><th scope=col>lwr</th><th scope=col>upr</th></tr>\n",
       "</thead>\n",
       "<tbody>\n",
       "\t<tr><th scope=row>1</th><td>267.829</td><td>239.9677</td><td>295.6903</td></tr>\n",
       "</tbody>\n",
       "</table>\n"
      ],
      "text/latex": [
       "A matrix: 1 × 3 of type dbl\n",
       "\\begin{tabular}{r|lll}\n",
       "  & fit & lwr & upr\\\\\n",
       "\\hline\n",
       "\t1 & 267.829 & 239.9677 & 295.6903\\\\\n",
       "\\end{tabular}\n"
      ],
      "text/markdown": [
       "\n",
       "A matrix: 1 × 3 of type dbl\n",
       "\n",
       "| <!--/--> | fit | lwr | upr |\n",
       "|---|---|---|---|\n",
       "| 1 | 267.829 | 239.9677 | 295.6903 |\n",
       "\n"
      ],
      "text/plain": [
       "  fit     lwr      upr     \n",
       "1 267.829 239.9677 295.6903"
      ]
     },
     "metadata": {},
     "output_type": "display_data"
    },
    {
     "data": {
      "text/html": [
       "'预测区间'"
      ],
      "text/latex": [
       "'预测区间'"
      ],
      "text/markdown": [
       "'预测区间'"
      ],
      "text/plain": [
       "[1] \"预测区间\""
      ]
     },
     "metadata": {},
     "output_type": "display_data"
    },
    {
     "data": {
      "text/html": [
       "<table class=\"dataframe\">\n",
       "<caption>A matrix: 1 × 3 of type dbl</caption>\n",
       "<thead>\n",
       "\t<tr><th></th><th scope=col>fit</th><th scope=col>lwr</th><th scope=col>upr</th></tr>\n",
       "</thead>\n",
       "<tbody>\n",
       "\t<tr><th scope=row>1</th><td>267.829</td><td>204.4355</td><td>331.2225</td></tr>\n",
       "</tbody>\n",
       "</table>\n"
      ],
      "text/latex": [
       "A matrix: 1 × 3 of type dbl\n",
       "\\begin{tabular}{r|lll}\n",
       "  & fit & lwr & upr\\\\\n",
       "\\hline\n",
       "\t1 & 267.829 & 204.4355 & 331.2225\\\\\n",
       "\\end{tabular}\n"
      ],
      "text/markdown": [
       "\n",
       "A matrix: 1 × 3 of type dbl\n",
       "\n",
       "| <!--/--> | fit | lwr | upr |\n",
       "|---|---|---|---|\n",
       "| 1 | 267.829 | 204.4355 | 331.2225 |\n",
       "\n"
      ],
      "text/plain": [
       "  fit     lwr      upr     \n",
       "1 267.829 204.4355 331.2225"
      ]
     },
     "metadata": {},
     "output_type": "display_data"
    }
   ],
   "source": [
    "new_data <- data.frame(x1 = 75, x2 = 42)\n",
    "'置信区间'\n",
    "predict(lm3.11_drop3, newdata = new_data, interval = \"confidence\", level = 0.95)\n",
    "'预测区间'\n",
    "predict(lm3.11_drop3, newdata = new_data, interval = \"prediction\", level = 0.95)"
   ]
  },
  {
   "cell_type": "markdown",
   "id": "8c0daf0f-5ed6-4558-91c6-8f4f2af6b6ca",
   "metadata": {},
   "source": [
    "# 结合回归方程对问题做一些基本分析"
   ]
  },
  {
   "cell_type": "markdown",
   "id": "2d3ca742-c6ba-48b6-a3d8-bdf9d7cc3f74",
   "metadata": {},
   "source": [
    "1. 回归方程：根据三元线性回归方程，货运总量y与工业总产值x1、农业总产值x2和居民非商品支出x3之间存在线性关系。回归方程为：y = -348.280 + 3.754x1 + 7.101x2 + 12.447x3。\n",
    "\n",
    "2. 拟合优度检验：根据拟合优度检验，回归模型可以解释目标变量y的80.55%的变异性，即模型对数据的拟合程度较好。\n",
    "\n",
    "3. 显著性检验：通过显著性检验，我们可以拒绝原假设，说明至少一个解释变量与目标变量之间存在显著线性关系。\n",
    "\n",
    "4. 回归系数显著性检验：根据回归系数的显著性检验结果，发现工业总产值x1和农业总产值x2与货运总量y之间存在显著线性关系。然而，居民非商品支出x3与货运总量y之间的线性关系在统计上不显著。\n",
    "\n",
    "5. 剔除不显著的回归系数后的回归方程：如果我们忽略不显著的回归系数x3，重新建立回归方程，得到新的回归方程为：y = -459.624 + 4.676x1 + 8.971x2。在新的回归方程中，所有的回归系数在统计上都通过了显著性检验。\n",
    "\n",
    "6. 置信水平为95%的置信区间：根据回归方程，我们可以对给定x1和x2值（例如，x1=75，x2=42）得出y的置信区间。在95%的置信水平下，货运总量y的置信区间为[239.9677, 295.6903]。\n",
    "\n",
    "7. 置信水平为95%的预测区间：在95%的置信水平下，根据回归方程，我们可以对给定x1和x2值（例如，x1=75，x2=42）得出单个y值的预测区间。货运总量y的预测区间为[204.4355, 331.2225]。"
   ]
  },
  {
   "cell_type": "code",
   "execution_count": null,
   "id": "5d37454b-dd71-48ca-b125-bd3419a8afdb",
   "metadata": {},
   "outputs": [],
   "source": []
  }
 ],
 "metadata": {
  "kernelspec": {
   "display_name": "R",
   "language": "R",
   "name": "ir"
  },
  "language_info": {
   "codemirror_mode": "r",
   "file_extension": ".r",
   "mimetype": "text/x-r-source",
   "name": "R",
   "pygments_lexer": "r",
   "version": "4.2.3"
  }
 },
 "nbformat": 4,
 "nbformat_minor": 5
}
